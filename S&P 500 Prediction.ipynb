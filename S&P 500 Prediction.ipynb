{
 "cells": [
  {
   "cell_type": "code",
   "execution_count": 1,
   "id": "e147726a",
   "metadata": {},
   "outputs": [],
   "source": [
    "from yahoofinancials import YahooFinancials\n",
    "import pandas as pd\n",
    "import numpy as np"
   ]
  },
  {
   "cell_type": "code",
   "execution_count": 2,
   "id": "58bb94cf",
   "metadata": {},
   "outputs": [],
   "source": [
    "ticket_list_affecting=['^GSPC','DX-Y.NYB','CL=F','GC=F','SI=F','^TNX','^VIX']\n",
    "ticket_name= [\"S&P 500\",\"US Dollar Index\",\"Crude Oil\",'Gold',\"Silver\",'10 Years Treasury Yield','US Volatility Index']\n",
    "ticket_name=ticket_name[::-1]\n",
    "df_list=[]\n",
    "\n",
    "for i in ticket_list_affecting:\n",
    "    \n",
    "    yahoo_financials = YahooFinancials(i)\n",
    "    data = yahoo_financials.get_historical_price_data(start_date='2000-01-01', \n",
    "                                                      end_date='2022-12-31', \n",
    "                                                      time_interval='daily')\n",
    "    df_list.append(pd.DataFrame(data[i]['prices']).loc[:,['formatted_date','adjclose']].rename(columns={'adjclose':ticket_name.pop()}))"
   ]
  },
  {
   "cell_type": "code",
   "execution_count": 3,
   "id": "8c29ffaf",
   "metadata": {},
   "outputs": [
    {
     "data": {
      "text/plain": [
       "7"
      ]
     },
     "execution_count": 3,
     "metadata": {},
     "output_type": "execute_result"
    }
   ],
   "source": [
    "len(df_list)"
   ]
  },
  {
   "cell_type": "code",
   "execution_count": 4,
   "id": "f2a7a2e4",
   "metadata": {},
   "outputs": [
    {
     "data": {
      "text/html": [
       "<div>\n",
       "<style scoped>\n",
       "    .dataframe tbody tr th:only-of-type {\n",
       "        vertical-align: middle;\n",
       "    }\n",
       "\n",
       "    .dataframe tbody tr th {\n",
       "        vertical-align: top;\n",
       "    }\n",
       "\n",
       "    .dataframe thead th {\n",
       "        text-align: right;\n",
       "    }\n",
       "</style>\n",
       "<table border=\"1\" class=\"dataframe\">\n",
       "  <thead>\n",
       "    <tr style=\"text-align: right;\">\n",
       "      <th></th>\n",
       "      <th>formatted_date</th>\n",
       "      <th>US Volatility Index</th>\n",
       "    </tr>\n",
       "  </thead>\n",
       "  <tbody>\n",
       "    <tr>\n",
       "      <th>0</th>\n",
       "      <td>2000-01-03</td>\n",
       "      <td>24.209999</td>\n",
       "    </tr>\n",
       "    <tr>\n",
       "      <th>1</th>\n",
       "      <td>2000-01-04</td>\n",
       "      <td>27.010000</td>\n",
       "    </tr>\n",
       "    <tr>\n",
       "      <th>2</th>\n",
       "      <td>2000-01-05</td>\n",
       "      <td>26.410000</td>\n",
       "    </tr>\n",
       "    <tr>\n",
       "      <th>3</th>\n",
       "      <td>2000-01-06</td>\n",
       "      <td>25.730000</td>\n",
       "    </tr>\n",
       "    <tr>\n",
       "      <th>4</th>\n",
       "      <td>2000-01-07</td>\n",
       "      <td>21.719999</td>\n",
       "    </tr>\n",
       "  </tbody>\n",
       "</table>\n",
       "</div>"
      ],
      "text/plain": [
       "  formatted_date  US Volatility Index\n",
       "0     2000-01-03            24.209999\n",
       "1     2000-01-04            27.010000\n",
       "2     2000-01-05            26.410000\n",
       "3     2000-01-06            25.730000\n",
       "4     2000-01-07            21.719999"
      ]
     },
     "execution_count": 4,
     "metadata": {},
     "output_type": "execute_result"
    }
   ],
   "source": [
    "df=df_list.pop()\n",
    "df.head()"
   ]
  },
  {
   "cell_type": "code",
   "execution_count": 5,
   "id": "d1d343af",
   "metadata": {},
   "outputs": [
    {
     "data": {
      "text/plain": [
       "6"
      ]
     },
     "execution_count": 5,
     "metadata": {},
     "output_type": "execute_result"
    }
   ],
   "source": [
    "len(df_list)"
   ]
  },
  {
   "cell_type": "code",
   "execution_count": 6,
   "id": "3915c629",
   "metadata": {},
   "outputs": [],
   "source": [
    "for i in df_list:\n",
    "    df=df.merge(i,on='formatted_date',how='inner')"
   ]
  },
  {
   "cell_type": "code",
   "execution_count": 7,
   "id": "2d60e97a",
   "metadata": {},
   "outputs": [
    {
     "data": {
      "text/html": [
       "<div>\n",
       "<style scoped>\n",
       "    .dataframe tbody tr th:only-of-type {\n",
       "        vertical-align: middle;\n",
       "    }\n",
       "\n",
       "    .dataframe tbody tr th {\n",
       "        vertical-align: top;\n",
       "    }\n",
       "\n",
       "    .dataframe thead th {\n",
       "        text-align: right;\n",
       "    }\n",
       "</style>\n",
       "<table border=\"1\" class=\"dataframe\">\n",
       "  <thead>\n",
       "    <tr style=\"text-align: right;\">\n",
       "      <th></th>\n",
       "      <th>formatted_date</th>\n",
       "      <th>US Volatility Index</th>\n",
       "      <th>S&amp;P 500</th>\n",
       "      <th>US Dollar Index</th>\n",
       "      <th>Crude Oil</th>\n",
       "      <th>Gold</th>\n",
       "      <th>Silver</th>\n",
       "      <th>10 Years Treasury Yield</th>\n",
       "    </tr>\n",
       "  </thead>\n",
       "  <tbody>\n",
       "    <tr>\n",
       "      <th>0</th>\n",
       "      <td>2000-08-30</td>\n",
       "      <td>17.690001</td>\n",
       "      <td>1502.589966</td>\n",
       "      <td>112.139999</td>\n",
       "      <td>33.400002</td>\n",
       "      <td>273.899994</td>\n",
       "      <td>4.930000</td>\n",
       "      <td>5.800</td>\n",
       "    </tr>\n",
       "    <tr>\n",
       "      <th>1</th>\n",
       "      <td>2000-08-31</td>\n",
       "      <td>16.840000</td>\n",
       "      <td>1517.680054</td>\n",
       "      <td>112.599998</td>\n",
       "      <td>33.099998</td>\n",
       "      <td>278.299988</td>\n",
       "      <td>5.003000</td>\n",
       "      <td>5.729</td>\n",
       "    </tr>\n",
       "    <tr>\n",
       "      <th>2</th>\n",
       "      <td>2000-09-01</td>\n",
       "      <td>17.530001</td>\n",
       "      <td>1520.770020</td>\n",
       "      <td>111.419998</td>\n",
       "      <td>33.380001</td>\n",
       "      <td>277.000000</td>\n",
       "      <td>5.004000</td>\n",
       "      <td>5.675</td>\n",
       "    </tr>\n",
       "    <tr>\n",
       "      <th>3</th>\n",
       "      <td>2000-09-05</td>\n",
       "      <td>19.820000</td>\n",
       "      <td>1507.079956</td>\n",
       "      <td>112.410004</td>\n",
       "      <td>33.799999</td>\n",
       "      <td>275.799988</td>\n",
       "      <td>4.998000</td>\n",
       "      <td>5.683</td>\n",
       "    </tr>\n",
       "    <tr>\n",
       "      <th>4</th>\n",
       "      <td>2000-09-06</td>\n",
       "      <td>20.790001</td>\n",
       "      <td>1492.250000</td>\n",
       "      <td>114.120003</td>\n",
       "      <td>34.950001</td>\n",
       "      <td>274.200012</td>\n",
       "      <td>4.983000</td>\n",
       "      <td>5.712</td>\n",
       "    </tr>\n",
       "    <tr>\n",
       "      <th>...</th>\n",
       "      <td>...</td>\n",
       "      <td>...</td>\n",
       "      <td>...</td>\n",
       "      <td>...</td>\n",
       "      <td>...</td>\n",
       "      <td>...</td>\n",
       "      <td>...</td>\n",
       "      <td>...</td>\n",
       "    </tr>\n",
       "    <tr>\n",
       "      <th>5497</th>\n",
       "      <td>2022-07-12</td>\n",
       "      <td>27.290001</td>\n",
       "      <td>3818.800049</td>\n",
       "      <td>108.070000</td>\n",
       "      <td>95.839996</td>\n",
       "      <td>1723.300049</td>\n",
       "      <td>18.899000</td>\n",
       "      <td>2.958</td>\n",
       "    </tr>\n",
       "    <tr>\n",
       "      <th>5498</th>\n",
       "      <td>2022-07-13</td>\n",
       "      <td>26.820000</td>\n",
       "      <td>3801.780029</td>\n",
       "      <td>107.959999</td>\n",
       "      <td>96.300003</td>\n",
       "      <td>1734.199951</td>\n",
       "      <td>19.138000</td>\n",
       "      <td>2.904</td>\n",
       "    </tr>\n",
       "    <tr>\n",
       "      <th>5499</th>\n",
       "      <td>2022-07-14</td>\n",
       "      <td>26.400000</td>\n",
       "      <td>3790.379883</td>\n",
       "      <td>108.540001</td>\n",
       "      <td>95.779999</td>\n",
       "      <td>1704.500000</td>\n",
       "      <td>18.169001</td>\n",
       "      <td>2.960</td>\n",
       "    </tr>\n",
       "    <tr>\n",
       "      <th>5500</th>\n",
       "      <td>2022-07-15</td>\n",
       "      <td>24.230000</td>\n",
       "      <td>3863.159912</td>\n",
       "      <td>108.059998</td>\n",
       "      <td>97.589996</td>\n",
       "      <td>1702.400024</td>\n",
       "      <td>18.548000</td>\n",
       "      <td>2.930</td>\n",
       "    </tr>\n",
       "    <tr>\n",
       "      <th>5501</th>\n",
       "      <td>2022-07-18</td>\n",
       "      <td>25.299999</td>\n",
       "      <td>3830.850098</td>\n",
       "      <td>107.370003</td>\n",
       "      <td>102.599998</td>\n",
       "      <td>1709.199951</td>\n",
       "      <td>18.791000</td>\n",
       "      <td>2.960</td>\n",
       "    </tr>\n",
       "  </tbody>\n",
       "</table>\n",
       "<p>5502 rows × 8 columns</p>\n",
       "</div>"
      ],
      "text/plain": [
       "     formatted_date  US Volatility Index      S&P 500  US Dollar Index  \\\n",
       "0        2000-08-30            17.690001  1502.589966       112.139999   \n",
       "1        2000-08-31            16.840000  1517.680054       112.599998   \n",
       "2        2000-09-01            17.530001  1520.770020       111.419998   \n",
       "3        2000-09-05            19.820000  1507.079956       112.410004   \n",
       "4        2000-09-06            20.790001  1492.250000       114.120003   \n",
       "...             ...                  ...          ...              ...   \n",
       "5497     2022-07-12            27.290001  3818.800049       108.070000   \n",
       "5498     2022-07-13            26.820000  3801.780029       107.959999   \n",
       "5499     2022-07-14            26.400000  3790.379883       108.540001   \n",
       "5500     2022-07-15            24.230000  3863.159912       108.059998   \n",
       "5501     2022-07-18            25.299999  3830.850098       107.370003   \n",
       "\n",
       "       Crude Oil         Gold     Silver  10 Years Treasury Yield  \n",
       "0      33.400002   273.899994   4.930000                    5.800  \n",
       "1      33.099998   278.299988   5.003000                    5.729  \n",
       "2      33.380001   277.000000   5.004000                    5.675  \n",
       "3      33.799999   275.799988   4.998000                    5.683  \n",
       "4      34.950001   274.200012   4.983000                    5.712  \n",
       "...          ...          ...        ...                      ...  \n",
       "5497   95.839996  1723.300049  18.899000                    2.958  \n",
       "5498   96.300003  1734.199951  19.138000                    2.904  \n",
       "5499   95.779999  1704.500000  18.169001                    2.960  \n",
       "5500   97.589996  1702.400024  18.548000                    2.930  \n",
       "5501  102.599998  1709.199951  18.791000                    2.960  \n",
       "\n",
       "[5502 rows x 8 columns]"
      ]
     },
     "execution_count": 7,
     "metadata": {},
     "output_type": "execute_result"
    }
   ],
   "source": [
    "df"
   ]
  },
  {
   "cell_type": "code",
   "execution_count": 8,
   "id": "998dbf9f",
   "metadata": {},
   "outputs": [],
   "source": [
    "def create_train_test_set(df_Stock):\n",
    "    \n",
    "    features = df_Stock.drop(columns=['S&P 500'], axis=1)\n",
    "    target = df_Stock['S&P 500']\n",
    "    \n",
    "\n",
    "    data_len = df_Stock.shape[0]\n",
    "    print('Historical Stock Data length is - ', str(data_len))\n",
    "\n",
    "    #create a chronological split for train and testing\n",
    "    train_split = int(data_len * 0.8)\n",
    "    print('Training Set length - ', str(train_split))\n",
    "\n",
    "    print('Test Set length - ', str(int(data_len * 0.2)))\n",
    "\n",
    "    # Splitting features and target into train, validation and test samples \n",
    "    X_train,X_test = features[:train_split], features[train_split:]\n",
    "    Y_train,Y_test = target[:train_split], target[train_split:]\n",
    "    \n",
    "    return X_train, X_test, Y_train, Y_test"
   ]
  },
  {
   "cell_type": "code",
   "execution_count": 9,
   "id": "f7b41784",
   "metadata": {},
   "outputs": [
    {
     "name": "stdout",
     "output_type": "stream",
     "text": [
      "Historical Stock Data length is -  5479\n",
      "Training Set length -  4383\n",
      "Test Set length -  1095\n"
     ]
    }
   ],
   "source": [
    "X_train, X_test, Y_train, Y_test = create_train_test_set(df.drop(columns='formatted_date').dropna())"
   ]
  },
  {
   "cell_type": "code",
   "execution_count": 10,
   "id": "e7946006",
   "metadata": {},
   "outputs": [
    {
     "data": {
      "text/html": [
       "<style>#sk-container-id-1 {color: black;background-color: white;}#sk-container-id-1 pre{padding: 0;}#sk-container-id-1 div.sk-toggleable {background-color: white;}#sk-container-id-1 label.sk-toggleable__label {cursor: pointer;display: block;width: 100%;margin-bottom: 0;padding: 0.3em;box-sizing: border-box;text-align: center;}#sk-container-id-1 label.sk-toggleable__label-arrow:before {content: \"▸\";float: left;margin-right: 0.25em;color: #696969;}#sk-container-id-1 label.sk-toggleable__label-arrow:hover:before {color: black;}#sk-container-id-1 div.sk-estimator:hover label.sk-toggleable__label-arrow:before {color: black;}#sk-container-id-1 div.sk-toggleable__content {max-height: 0;max-width: 0;overflow: hidden;text-align: left;background-color: #f0f8ff;}#sk-container-id-1 div.sk-toggleable__content pre {margin: 0.2em;color: black;border-radius: 0.25em;background-color: #f0f8ff;}#sk-container-id-1 input.sk-toggleable__control:checked~div.sk-toggleable__content {max-height: 200px;max-width: 100%;overflow: auto;}#sk-container-id-1 input.sk-toggleable__control:checked~label.sk-toggleable__label-arrow:before {content: \"▾\";}#sk-container-id-1 div.sk-estimator input.sk-toggleable__control:checked~label.sk-toggleable__label {background-color: #d4ebff;}#sk-container-id-1 div.sk-label input.sk-toggleable__control:checked~label.sk-toggleable__label {background-color: #d4ebff;}#sk-container-id-1 input.sk-hidden--visually {border: 0;clip: rect(1px 1px 1px 1px);clip: rect(1px, 1px, 1px, 1px);height: 1px;margin: -1px;overflow: hidden;padding: 0;position: absolute;width: 1px;}#sk-container-id-1 div.sk-estimator {font-family: monospace;background-color: #f0f8ff;border: 1px dotted black;border-radius: 0.25em;box-sizing: border-box;margin-bottom: 0.5em;}#sk-container-id-1 div.sk-estimator:hover {background-color: #d4ebff;}#sk-container-id-1 div.sk-parallel-item::after {content: \"\";width: 100%;border-bottom: 1px solid gray;flex-grow: 1;}#sk-container-id-1 div.sk-label:hover label.sk-toggleable__label {background-color: #d4ebff;}#sk-container-id-1 div.sk-serial::before {content: \"\";position: absolute;border-left: 1px solid gray;box-sizing: border-box;top: 0;bottom: 0;left: 50%;z-index: 0;}#sk-container-id-1 div.sk-serial {display: flex;flex-direction: column;align-items: center;background-color: white;padding-right: 0.2em;padding-left: 0.2em;position: relative;}#sk-container-id-1 div.sk-item {position: relative;z-index: 1;}#sk-container-id-1 div.sk-parallel {display: flex;align-items: stretch;justify-content: center;background-color: white;position: relative;}#sk-container-id-1 div.sk-item::before, #sk-container-id-1 div.sk-parallel-item::before {content: \"\";position: absolute;border-left: 1px solid gray;box-sizing: border-box;top: 0;bottom: 0;left: 50%;z-index: -1;}#sk-container-id-1 div.sk-parallel-item {display: flex;flex-direction: column;z-index: 1;position: relative;background-color: white;}#sk-container-id-1 div.sk-parallel-item:first-child::after {align-self: flex-end;width: 50%;}#sk-container-id-1 div.sk-parallel-item:last-child::after {align-self: flex-start;width: 50%;}#sk-container-id-1 div.sk-parallel-item:only-child::after {width: 0;}#sk-container-id-1 div.sk-dashed-wrapped {border: 1px dashed gray;margin: 0 0.4em 0.5em 0.4em;box-sizing: border-box;padding-bottom: 0.4em;background-color: white;}#sk-container-id-1 div.sk-label label {font-family: monospace;font-weight: bold;display: inline-block;line-height: 1.2em;}#sk-container-id-1 div.sk-label-container {text-align: center;}#sk-container-id-1 div.sk-container {/* jupyter's `normalize.less` sets `[hidden] { display: none; }` but bootstrap.min.css set `[hidden] { display: none !important; }` so we also need the `!important` here to be able to override the default hidden behavior on the sphinx rendered scikit-learn.org. See: https://github.com/scikit-learn/scikit-learn/issues/21755 */display: inline-block !important;position: relative;}#sk-container-id-1 div.sk-text-repr-fallback {display: none;}</style><div id=\"sk-container-id-1\" class=\"sk-top-container\"><div class=\"sk-text-repr-fallback\"><pre>LinearRegression()</pre><b>In a Jupyter environment, please rerun this cell to show the HTML representation or trust the notebook. <br />On GitHub, the HTML representation is unable to render, please try loading this page with nbviewer.org.</b></div><div class=\"sk-container\" hidden><div class=\"sk-item\"><div class=\"sk-estimator sk-toggleable\"><input class=\"sk-toggleable__control sk-hidden--visually\" id=\"sk-estimator-id-1\" type=\"checkbox\" checked><label for=\"sk-estimator-id-1\" class=\"sk-toggleable__label sk-toggleable__label-arrow\">LinearRegression</label><div class=\"sk-toggleable__content\"><pre>LinearRegression()</pre></div></div></div></div></div>"
      ],
      "text/plain": [
       "LinearRegression()"
      ]
     },
     "execution_count": 10,
     "metadata": {},
     "output_type": "execute_result"
    }
   ],
   "source": [
    "# Prediction using Linear Regression\n",
    "from sklearn.linear_model import LinearRegression\n",
    "from sklearn import metrics\n",
    "\n",
    "lr = LinearRegression()\n",
    "lr.fit(X_train, Y_train)"
   ]
  },
  {
   "cell_type": "code",
   "execution_count": 11,
   "id": "92229e2c",
   "metadata": {},
   "outputs": [
    {
     "name": "stdout",
     "output_type": "stream",
     "text": [
      "LR Coefficients: \n",
      " [-22.79408283  13.33411938   0.95799278   1.78796602 -60.0420643\n",
      "  63.05637287]\n",
      "LR Intercept: \n",
      " -299.5552638439308\n"
     ]
    }
   ],
   "source": [
    "print('LR Coefficients: \\n', lr.coef_)\n",
    "print('LR Intercept: \\n', lr.intercept_)"
   ]
  },
  {
   "cell_type": "code",
   "execution_count": 12,
   "id": "5d5af9fd",
   "metadata": {},
   "outputs": [
    {
     "name": "stdout",
     "output_type": "stream",
     "text": [
      "Performance (R^2):  0.7366551565143509\n"
     ]
    }
   ],
   "source": [
    "print(\"Performance (R^2): \", lr.score(X_train, Y_train))"
   ]
  },
  {
   "cell_type": "code",
   "execution_count": 13,
   "id": "b6314a9d",
   "metadata": {},
   "outputs": [],
   "source": [
    "#Predict for the test dataset\n",
    "Y_train_pred = lr.predict(X_train)\n",
    "Y_test_pred = lr.predict(X_test)"
   ]
  },
  {
   "cell_type": "code",
   "execution_count": 14,
   "id": "28533fb4",
   "metadata": {},
   "outputs": [
    {
     "name": "stdout",
     "output_type": "stream",
     "text": [
      "Training R-squared:  0.74\n",
      "Training Explained Variation:  0.74\n",
      "Training Mean Squared Error: 54668.91\n",
      "Training RMSE:  233.81\n",
      "Training MAE:  187.97\n",
      " \n",
      "Test R-squared:  -2.3\n",
      "Test Explained Variation:  0.23\n",
      "Test Mean Squared Error: 1532340.14\n",
      "Test RMSE:  1237.88\n",
      "Test MAE:  1084.15\n"
     ]
    }
   ],
   "source": [
    "print(\"Training R-squared: \",round(metrics.r2_score(Y_train,Y_train_pred),2))\n",
    "print(\"Training Explained Variation: \",round(metrics.explained_variance_score(Y_train,Y_train_pred),2))\n",
    "print('Training Mean Squared Error:', round(metrics.mean_squared_error(Y_train,Y_train_pred), 2)) \n",
    "print(\"Training RMSE: \",round(np.sqrt(metrics.mean_squared_error(Y_train,Y_train_pred)),2))\n",
    "print(\"Training MAE: \",round(metrics.mean_absolute_error(Y_train,Y_train_pred),2))\n",
    "\n",
    "print(' ')\n",
    "\n",
    "print(\"Test R-squared: \",round(metrics.r2_score(Y_test,Y_test_pred),2))\n",
    "print(\"Test Explained Variation: \",round(metrics.explained_variance_score(Y_test,Y_test_pred),2))\n",
    "print('Test Mean Squared Error:', round(metrics.mean_squared_error(Y_test,Y_test_pred), 2)) \n",
    "print(\"Test RMSE: \",round(np.sqrt(metrics.mean_squared_error(Y_test,Y_test_pred)),2))\n",
    "print(\"Test MAE: \",round(metrics.mean_absolute_error(Y_test,Y_test_pred),2))"
   ]
  },
  {
   "cell_type": "code",
   "execution_count": 15,
   "id": "a71a7465",
   "metadata": {},
   "outputs": [],
   "source": [
    "import numpy as np"
   ]
  },
  {
   "cell_type": "code",
   "execution_count": 16,
   "id": "015a2885",
   "metadata": {},
   "outputs": [],
   "source": [
    "predicted=np.concatenate([Y_train_pred,Y_test_pred])"
   ]
  },
  {
   "cell_type": "code",
   "execution_count": 17,
   "id": "7bf45d88",
   "metadata": {},
   "outputs": [],
   "source": [
    "actual=np.concatenate([Y_train, Y_test])"
   ]
  },
  {
   "cell_type": "code",
   "execution_count": 18,
   "id": "ce92cefc",
   "metadata": {},
   "outputs": [],
   "source": [
    "df_pred=pd.DataFrame()"
   ]
  },
  {
   "cell_type": "code",
   "execution_count": 19,
   "id": "1d4f2048",
   "metadata": {},
   "outputs": [],
   "source": [
    "df_pred['Actual']=actual\n",
    "df_pred['Predicted']=predicted"
   ]
  },
  {
   "cell_type": "code",
   "execution_count": 20,
   "id": "f3a1172f",
   "metadata": {},
   "outputs": [
    {
     "data": {
      "text/plain": [
       "<AxesSubplot:>"
      ]
     },
     "execution_count": 20,
     "metadata": {},
     "output_type": "execute_result"
    },
    {
     "data": {
      "image/png": "[encoded data removed]",
      "text/plain": [
       "<Figure size 432x288 with 1 Axes>"
      ]
     },
     "metadata": {
      "needs_background": "light"
     },
     "output_type": "display_data"
    }
   ],
   "source": [
    "df_pred.plot()"
   ]
  },
  {
   "cell_type": "code",
   "execution_count": null,
   "id": "2dfd4bd8",
   "metadata": {},
   "outputs": [],
   "source": []
  }
 ],
 "metadata": {
  "kernelspec": {
   "display_name": "Python 3 (ipykernel)",
   "language": "python",
   "name": "python3"
  },
  "language_info": {
   "codemirror_mode": {
    "name": "ipython",
    "version": 3
   },
   "file_extension": ".py",
   "mimetype": "text/x-python",
   "name": "python",
   "nbconvert_exporter": "python",
   "pygments_lexer": "ipython3",
   "version": "3.10.4"
  }
 },
 "nbformat": 4,
 "nbformat_minor": 5
}
