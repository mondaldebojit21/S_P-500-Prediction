{
 "cells": [
  {
   "cell_type": "code",
   "execution_count": 112,
   "id": "8e022d66",
   "metadata": {},
   "outputs": [],
   "source": [
    "from yahoofinancials import YahooFinancials\n",
    "import pandas as pd\n",
    "import numpy as np"
   ]
  },
  {
   "cell_type": "code",
   "execution_count": 113,
   "id": "75e8f8be",
   "metadata": {},
   "outputs": [],
   "source": [
    "# Featching financial data of \"S&P 500\",\"US Dollar Index\",\"Crude Oil\",'Gold',\"Silver\",'10 Years Treasury Yield','US Volatility Index' from Yahoo Finance\n",
    "\n",
    "ticket_list_affecting=['^GSPC','DX-Y.NYB','CL=F','GC=F','SI=F','^TNX','^VIX']\n",
    "ticket_name= [\"S&P 500\",\"US Dollar Index\",\"Crude Oil\",'Gold',\"Silver\",'10 Years Treasury Yield','US Volatility Index']\n",
    "ticket_name=ticket_name[::-1]\n",
    "df_list=[]\n",
    "\n",
    "for i in ticket_list_affecting:\n",
    "    \n",
    "    yahoo_financials = YahooFinancials(i)\n",
    "    data = yahoo_financials.get_historical_price_data(start_date='2000-01-01', \n",
    "                                                      end_date='2022-12-31', \n",
    "                                                      time_interval='daily')\n",
    "    df_list.append(pd.DataFrame(data[i]['prices']).loc[:,['formatted_date','adjclose']].rename(columns={'adjclose':ticket_name.pop()}))"
   ]
  },
  {
   "cell_type": "code",
   "execution_count": 114,
   "id": "78a43bf6",
   "metadata": {},
   "outputs": [
    {
     "data": {
      "text/html": [
       "<div>\n",
       "<style scoped>\n",
       "    .dataframe tbody tr th:only-of-type {\n",
       "        vertical-align: middle;\n",
       "    }\n",
       "\n",
       "    .dataframe tbody tr th {\n",
       "        vertical-align: top;\n",
       "    }\n",
       "\n",
       "    .dataframe thead th {\n",
       "        text-align: right;\n",
       "    }\n",
       "</style>\n",
       "<table border=\"1\" class=\"dataframe\">\n",
       "  <thead>\n",
       "    <tr style=\"text-align: right;\">\n",
       "      <th></th>\n",
       "      <th>formatted_date</th>\n",
       "      <th>US Volatility Index</th>\n",
       "    </tr>\n",
       "  </thead>\n",
       "  <tbody>\n",
       "    <tr>\n",
       "      <th>0</th>\n",
       "      <td>2000-01-03</td>\n",
       "      <td>24.209999</td>\n",
       "    </tr>\n",
       "    <tr>\n",
       "      <th>1</th>\n",
       "      <td>2000-01-04</td>\n",
       "      <td>27.010000</td>\n",
       "    </tr>\n",
       "    <tr>\n",
       "      <th>2</th>\n",
       "      <td>2000-01-05</td>\n",
       "      <td>26.410000</td>\n",
       "    </tr>\n",
       "    <tr>\n",
       "      <th>3</th>\n",
       "      <td>2000-01-06</td>\n",
       "      <td>25.730000</td>\n",
       "    </tr>\n",
       "    <tr>\n",
       "      <th>4</th>\n",
       "      <td>2000-01-07</td>\n",
       "      <td>21.719999</td>\n",
       "    </tr>\n",
       "  </tbody>\n",
       "</table>\n",
       "</div>"
      ],
      "text/plain": [
       "  formatted_date  US Volatility Index\n",
       "0     2000-01-03            24.209999\n",
       "1     2000-01-04            27.010000\n",
       "2     2000-01-05            26.410000\n",
       "3     2000-01-06            25.730000\n",
       "4     2000-01-07            21.719999"
      ]
     },
     "execution_count": 114,
     "metadata": {},
     "output_type": "execute_result"
    }
   ],
   "source": [
    "df=df_list.pop()\n",
    "df.head()"
   ]
  },
  {
   "cell_type": "code",
   "execution_count": 115,
   "id": "c13eb4a0",
   "metadata": {},
   "outputs": [],
   "source": [
    "for i in df_list:\n",
    "    df=df.merge(i,on='formatted_date',how='inner')"
   ]
  },
  {
   "cell_type": "code",
   "execution_count": 116,
   "id": "501abc1c",
   "metadata": {},
   "outputs": [],
   "source": [
    "df.dropna(inplace=True)"
   ]
  },
  {
   "cell_type": "code",
   "execution_count": 117,
   "id": "febadd65",
   "metadata": {},
   "outputs": [
    {
     "data": {
      "text/html": [
       "<div>\n",
       "<style scoped>\n",
       "    .dataframe tbody tr th:only-of-type {\n",
       "        vertical-align: middle;\n",
       "    }\n",
       "\n",
       "    .dataframe tbody tr th {\n",
       "        vertical-align: top;\n",
       "    }\n",
       "\n",
       "    .dataframe thead th {\n",
       "        text-align: right;\n",
       "    }\n",
       "</style>\n",
       "<table border=\"1\" class=\"dataframe\">\n",
       "  <thead>\n",
       "    <tr style=\"text-align: right;\">\n",
       "      <th></th>\n",
       "      <th>formatted_date</th>\n",
       "      <th>US Volatility Index</th>\n",
       "      <th>S&amp;P 500</th>\n",
       "      <th>US Dollar Index</th>\n",
       "      <th>Crude Oil</th>\n",
       "      <th>Gold</th>\n",
       "      <th>Silver</th>\n",
       "      <th>10 Years Treasury Yield</th>\n",
       "    </tr>\n",
       "  </thead>\n",
       "  <tbody>\n",
       "    <tr>\n",
       "      <th>0</th>\n",
       "      <td>2000-08-30</td>\n",
       "      <td>17.690001</td>\n",
       "      <td>1502.589966</td>\n",
       "      <td>112.139999</td>\n",
       "      <td>33.400002</td>\n",
       "      <td>273.899994</td>\n",
       "      <td>4.930</td>\n",
       "      <td>5.800</td>\n",
       "    </tr>\n",
       "    <tr>\n",
       "      <th>1</th>\n",
       "      <td>2000-08-31</td>\n",
       "      <td>16.840000</td>\n",
       "      <td>1517.680054</td>\n",
       "      <td>112.599998</td>\n",
       "      <td>33.099998</td>\n",
       "      <td>278.299988</td>\n",
       "      <td>5.003</td>\n",
       "      <td>5.729</td>\n",
       "    </tr>\n",
       "    <tr>\n",
       "      <th>2</th>\n",
       "      <td>2000-09-01</td>\n",
       "      <td>17.530001</td>\n",
       "      <td>1520.770020</td>\n",
       "      <td>111.419998</td>\n",
       "      <td>33.380001</td>\n",
       "      <td>277.000000</td>\n",
       "      <td>5.004</td>\n",
       "      <td>5.675</td>\n",
       "    </tr>\n",
       "    <tr>\n",
       "      <th>3</th>\n",
       "      <td>2000-09-05</td>\n",
       "      <td>19.820000</td>\n",
       "      <td>1507.079956</td>\n",
       "      <td>112.410004</td>\n",
       "      <td>33.799999</td>\n",
       "      <td>275.799988</td>\n",
       "      <td>4.998</td>\n",
       "      <td>5.683</td>\n",
       "    </tr>\n",
       "    <tr>\n",
       "      <th>4</th>\n",
       "      <td>2000-09-06</td>\n",
       "      <td>20.790001</td>\n",
       "      <td>1492.250000</td>\n",
       "      <td>114.120003</td>\n",
       "      <td>34.950001</td>\n",
       "      <td>274.200012</td>\n",
       "      <td>4.983</td>\n",
       "      <td>5.712</td>\n",
       "    </tr>\n",
       "  </tbody>\n",
       "</table>\n",
       "</div>"
      ],
      "text/plain": [
       "  formatted_date  US Volatility Index      S&P 500  US Dollar Index  \\\n",
       "0     2000-08-30            17.690001  1502.589966       112.139999   \n",
       "1     2000-08-31            16.840000  1517.680054       112.599998   \n",
       "2     2000-09-01            17.530001  1520.770020       111.419998   \n",
       "3     2000-09-05            19.820000  1507.079956       112.410004   \n",
       "4     2000-09-06            20.790001  1492.250000       114.120003   \n",
       "\n",
       "   Crude Oil        Gold  Silver  10 Years Treasury Yield  \n",
       "0  33.400002  273.899994   4.930                    5.800  \n",
       "1  33.099998  278.299988   5.003                    5.729  \n",
       "2  33.380001  277.000000   5.004                    5.675  \n",
       "3  33.799999  275.799988   4.998                    5.683  \n",
       "4  34.950001  274.200012   4.983                    5.712  "
      ]
     },
     "execution_count": 117,
     "metadata": {},
     "output_type": "execute_result"
    }
   ],
   "source": [
    "df.head()"
   ]
  },
  {
   "cell_type": "code",
   "execution_count": 118,
   "id": "be76639f",
   "metadata": {},
   "outputs": [],
   "source": [
    "feature=df.drop(columns=['formatted_date','S&P 500'])"
   ]
  },
  {
   "cell_type": "code",
   "execution_count": 119,
   "id": "68f6c052",
   "metadata": {},
   "outputs": [
    {
     "data": {
      "text/html": [
       "<div>\n",
       "<style scoped>\n",
       "    .dataframe tbody tr th:only-of-type {\n",
       "        vertical-align: middle;\n",
       "    }\n",
       "\n",
       "    .dataframe tbody tr th {\n",
       "        vertical-align: top;\n",
       "    }\n",
       "\n",
       "    .dataframe thead th {\n",
       "        text-align: right;\n",
       "    }\n",
       "</style>\n",
       "<table border=\"1\" class=\"dataframe\">\n",
       "  <thead>\n",
       "    <tr style=\"text-align: right;\">\n",
       "      <th></th>\n",
       "      <th>US Volatility Index</th>\n",
       "      <th>US Dollar Index</th>\n",
       "      <th>Crude Oil</th>\n",
       "      <th>Gold</th>\n",
       "      <th>Silver</th>\n",
       "      <th>10 Years Treasury Yield</th>\n",
       "    </tr>\n",
       "  </thead>\n",
       "  <tbody>\n",
       "    <tr>\n",
       "      <th>0</th>\n",
       "      <td>17.690001</td>\n",
       "      <td>112.139999</td>\n",
       "      <td>33.400002</td>\n",
       "      <td>273.899994</td>\n",
       "      <td>4.930</td>\n",
       "      <td>5.800</td>\n",
       "    </tr>\n",
       "    <tr>\n",
       "      <th>1</th>\n",
       "      <td>16.840000</td>\n",
       "      <td>112.599998</td>\n",
       "      <td>33.099998</td>\n",
       "      <td>278.299988</td>\n",
       "      <td>5.003</td>\n",
       "      <td>5.729</td>\n",
       "    </tr>\n",
       "    <tr>\n",
       "      <th>2</th>\n",
       "      <td>17.530001</td>\n",
       "      <td>111.419998</td>\n",
       "      <td>33.380001</td>\n",
       "      <td>277.000000</td>\n",
       "      <td>5.004</td>\n",
       "      <td>5.675</td>\n",
       "    </tr>\n",
       "    <tr>\n",
       "      <th>3</th>\n",
       "      <td>19.820000</td>\n",
       "      <td>112.410004</td>\n",
       "      <td>33.799999</td>\n",
       "      <td>275.799988</td>\n",
       "      <td>4.998</td>\n",
       "      <td>5.683</td>\n",
       "    </tr>\n",
       "    <tr>\n",
       "      <th>4</th>\n",
       "      <td>20.790001</td>\n",
       "      <td>114.120003</td>\n",
       "      <td>34.950001</td>\n",
       "      <td>274.200012</td>\n",
       "      <td>4.983</td>\n",
       "      <td>5.712</td>\n",
       "    </tr>\n",
       "  </tbody>\n",
       "</table>\n",
       "</div>"
      ],
      "text/plain": [
       "   US Volatility Index  US Dollar Index  Crude Oil        Gold  Silver  \\\n",
       "0            17.690001       112.139999  33.400002  273.899994   4.930   \n",
       "1            16.840000       112.599998  33.099998  278.299988   5.003   \n",
       "2            17.530001       111.419998  33.380001  277.000000   5.004   \n",
       "3            19.820000       112.410004  33.799999  275.799988   4.998   \n",
       "4            20.790001       114.120003  34.950001  274.200012   4.983   \n",
       "\n",
       "   10 Years Treasury Yield  \n",
       "0                    5.800  \n",
       "1                    5.729  \n",
       "2                    5.675  \n",
       "3                    5.683  \n",
       "4                    5.712  "
      ]
     },
     "execution_count": 119,
     "metadata": {},
     "output_type": "execute_result"
    }
   ],
   "source": [
    "feature.head()"
   ]
  },
  {
   "cell_type": "code",
   "execution_count": 120,
   "id": "174f61dd",
   "metadata": {},
   "outputs": [
    {
     "data": {
      "text/plain": [
       "0    1502.589966\n",
       "1    1517.680054\n",
       "2    1520.770020\n",
       "3    1507.079956\n",
       "4    1492.250000\n",
       "Name: S&P 500, dtype: float64"
      ]
     },
     "execution_count": 120,
     "metadata": {},
     "output_type": "execute_result"
    }
   ],
   "source": [
    "target=df['S&P 500']\n",
    "target.head()"
   ]
  },
  {
   "cell_type": "code",
   "execution_count": 121,
   "id": "21a729ea",
   "metadata": {},
   "outputs": [],
   "source": [
    "from sklearn.preprocessing import MinMaxScaler\n",
    "feature_scaler = MinMaxScaler()\n",
    "X=feature_scaler.fit_transform(feature)\n",
    "feature_=pd.DataFrame(X,columns=feature.columns)"
   ]
  },
  {
   "cell_type": "code",
   "execution_count": 122,
   "id": "b36e66e4",
   "metadata": {},
   "outputs": [
    {
     "data": {
      "text/html": [
       "<div>\n",
       "<style scoped>\n",
       "    .dataframe tbody tr th:only-of-type {\n",
       "        vertical-align: middle;\n",
       "    }\n",
       "\n",
       "    .dataframe tbody tr th {\n",
       "        vertical-align: top;\n",
       "    }\n",
       "\n",
       "    .dataframe thead th {\n",
       "        text-align: right;\n",
       "    }\n",
       "</style>\n",
       "<table border=\"1\" class=\"dataframe\">\n",
       "  <thead>\n",
       "    <tr style=\"text-align: right;\">\n",
       "      <th></th>\n",
       "      <th>US Volatility Index</th>\n",
       "      <th>US Dollar Index</th>\n",
       "      <th>Crude Oil</th>\n",
       "      <th>Gold</th>\n",
       "      <th>Silver</th>\n",
       "      <th>10 Years Treasury Yield</th>\n",
       "    </tr>\n",
       "  </thead>\n",
       "  <tbody>\n",
       "    <tr>\n",
       "      <th>0</th>\n",
       "      <td>0.116247</td>\n",
       "      <td>0.823280</td>\n",
       "      <td>0.388312</td>\n",
       "      <td>0.010465</td>\n",
       "      <td>0.020288</td>\n",
       "      <td>0.982941</td>\n",
       "    </tr>\n",
       "    <tr>\n",
       "      <th>1</th>\n",
       "      <td>0.104691</td>\n",
       "      <td>0.832560</td>\n",
       "      <td>0.386672</td>\n",
       "      <td>0.012915</td>\n",
       "      <td>0.021926</td>\n",
       "      <td>0.969776</td>\n",
       "    </tr>\n",
       "    <tr>\n",
       "      <th>2</th>\n",
       "      <td>0.114072</td>\n",
       "      <td>0.808755</td>\n",
       "      <td>0.388203</td>\n",
       "      <td>0.012191</td>\n",
       "      <td>0.021949</td>\n",
       "      <td>0.959763</td>\n",
       "    </tr>\n",
       "    <tr>\n",
       "      <th>3</th>\n",
       "      <td>0.145207</td>\n",
       "      <td>0.828727</td>\n",
       "      <td>0.390499</td>\n",
       "      <td>0.011523</td>\n",
       "      <td>0.021814</td>\n",
       "      <td>0.961246</td>\n",
       "    </tr>\n",
       "    <tr>\n",
       "      <th>4</th>\n",
       "      <td>0.158396</td>\n",
       "      <td>0.863224</td>\n",
       "      <td>0.396786</td>\n",
       "      <td>0.010632</td>\n",
       "      <td>0.021478</td>\n",
       "      <td>0.966623</td>\n",
       "    </tr>\n",
       "  </tbody>\n",
       "</table>\n",
       "</div>"
      ],
      "text/plain": [
       "   US Volatility Index  US Dollar Index  Crude Oil      Gold    Silver  \\\n",
       "0             0.116247         0.823280   0.388312  0.010465  0.020288   \n",
       "1             0.104691         0.832560   0.386672  0.012915  0.021926   \n",
       "2             0.114072         0.808755   0.388203  0.012191  0.021949   \n",
       "3             0.145207         0.828727   0.390499  0.011523  0.021814   \n",
       "4             0.158396         0.863224   0.396786  0.010632  0.021478   \n",
       "\n",
       "   10 Years Treasury Yield  \n",
       "0                 0.982941  \n",
       "1                 0.969776  \n",
       "2                 0.959763  \n",
       "3                 0.961246  \n",
       "4                 0.966623  "
      ]
     },
     "execution_count": 122,
     "metadata": {},
     "output_type": "execute_result"
    }
   ],
   "source": [
    "feature_.head()"
   ]
  },
  {
   "cell_type": "code",
   "execution_count": 123,
   "id": "5f121d2c",
   "metadata": {},
   "outputs": [],
   "source": [
    "target_ = pd.DataFrame({'S&P 500': target})\n",
    "target_scaler = MinMaxScaler()\n",
    "Y=target_scaler.fit_transform(target_)\n",
    "target_['S&P 500'] = Y"
   ]
  },
  {
   "cell_type": "code",
   "execution_count": 124,
   "id": "452e246f",
   "metadata": {},
   "outputs": [
    {
     "data": {
      "text/html": [
       "<div>\n",
       "<style scoped>\n",
       "    .dataframe tbody tr th:only-of-type {\n",
       "        vertical-align: middle;\n",
       "    }\n",
       "\n",
       "    .dataframe tbody tr th {\n",
       "        vertical-align: top;\n",
       "    }\n",
       "\n",
       "    .dataframe thead th {\n",
       "        text-align: right;\n",
       "    }\n",
       "</style>\n",
       "<table border=\"1\" class=\"dataframe\">\n",
       "  <thead>\n",
       "    <tr style=\"text-align: right;\">\n",
       "      <th></th>\n",
       "      <th>S&amp;P 500</th>\n",
       "    </tr>\n",
       "  </thead>\n",
       "  <tbody>\n",
       "    <tr>\n",
       "      <th>0</th>\n",
       "      <td>0.200499</td>\n",
       "    </tr>\n",
       "    <tr>\n",
       "      <th>1</th>\n",
       "      <td>0.204161</td>\n",
       "    </tr>\n",
       "    <tr>\n",
       "      <th>2</th>\n",
       "      <td>0.204911</td>\n",
       "    </tr>\n",
       "    <tr>\n",
       "      <th>3</th>\n",
       "      <td>0.201588</td>\n",
       "    </tr>\n",
       "    <tr>\n",
       "      <th>4</th>\n",
       "      <td>0.197989</td>\n",
       "    </tr>\n",
       "  </tbody>\n",
       "</table>\n",
       "</div>"
      ],
      "text/plain": [
       "    S&P 500\n",
       "0  0.200499\n",
       "1  0.204161\n",
       "2  0.204911\n",
       "3  0.201588\n",
       "4  0.197989"
      ]
     },
     "execution_count": 124,
     "metadata": {},
     "output_type": "execute_result"
    }
   ],
   "source": [
    "target_.head()"
   ]
  },
  {
   "cell_type": "code",
   "execution_count": 125,
   "id": "91a20e74",
   "metadata": {},
   "outputs": [],
   "source": [
    "# Random Default 75% Train and 25% Test Split\n",
    "\n",
    "from sklearn.model_selection import train_test_split\n",
    "X_train, X_test, Y_train, Y_test= train_test_split(feature_,target_, random_state = 56)"
   ]
  },
  {
   "cell_type": "code",
   "execution_count": 126,
   "id": "44bce7a1",
   "metadata": {},
   "outputs": [
    {
     "data": {
      "text/html": [
       "<style>#sk-container-id-5 {color: black;background-color: white;}#sk-container-id-5 pre{padding: 0;}#sk-container-id-5 div.sk-toggleable {background-color: white;}#sk-container-id-5 label.sk-toggleable__label {cursor: pointer;display: block;width: 100%;margin-bottom: 0;padding: 0.3em;box-sizing: border-box;text-align: center;}#sk-container-id-5 label.sk-toggleable__label-arrow:before {content: \"▸\";float: left;margin-right: 0.25em;color: #696969;}#sk-container-id-5 label.sk-toggleable__label-arrow:hover:before {color: black;}#sk-container-id-5 div.sk-estimator:hover label.sk-toggleable__label-arrow:before {color: black;}#sk-container-id-5 div.sk-toggleable__content {max-height: 0;max-width: 0;overflow: hidden;text-align: left;background-color: #f0f8ff;}#sk-container-id-5 div.sk-toggleable__content pre {margin: 0.2em;color: black;border-radius: 0.25em;background-color: #f0f8ff;}#sk-container-id-5 input.sk-toggleable__control:checked~div.sk-toggleable__content {max-height: 200px;max-width: 100%;overflow: auto;}#sk-container-id-5 input.sk-toggleable__control:checked~label.sk-toggleable__label-arrow:before {content: \"▾\";}#sk-container-id-5 div.sk-estimator input.sk-toggleable__control:checked~label.sk-toggleable__label {background-color: #d4ebff;}#sk-container-id-5 div.sk-label input.sk-toggleable__control:checked~label.sk-toggleable__label {background-color: #d4ebff;}#sk-container-id-5 input.sk-hidden--visually {border: 0;clip: rect(1px 1px 1px 1px);clip: rect(1px, 1px, 1px, 1px);height: 1px;margin: -1px;overflow: hidden;padding: 0;position: absolute;width: 1px;}#sk-container-id-5 div.sk-estimator {font-family: monospace;background-color: #f0f8ff;border: 1px dotted black;border-radius: 0.25em;box-sizing: border-box;margin-bottom: 0.5em;}#sk-container-id-5 div.sk-estimator:hover {background-color: #d4ebff;}#sk-container-id-5 div.sk-parallel-item::after {content: \"\";width: 100%;border-bottom: 1px solid gray;flex-grow: 1;}#sk-container-id-5 div.sk-label:hover label.sk-toggleable__label {background-color: #d4ebff;}#sk-container-id-5 div.sk-serial::before {content: \"\";position: absolute;border-left: 1px solid gray;box-sizing: border-box;top: 0;bottom: 0;left: 50%;z-index: 0;}#sk-container-id-5 div.sk-serial {display: flex;flex-direction: column;align-items: center;background-color: white;padding-right: 0.2em;padding-left: 0.2em;position: relative;}#sk-container-id-5 div.sk-item {position: relative;z-index: 1;}#sk-container-id-5 div.sk-parallel {display: flex;align-items: stretch;justify-content: center;background-color: white;position: relative;}#sk-container-id-5 div.sk-item::before, #sk-container-id-5 div.sk-parallel-item::before {content: \"\";position: absolute;border-left: 1px solid gray;box-sizing: border-box;top: 0;bottom: 0;left: 50%;z-index: -1;}#sk-container-id-5 div.sk-parallel-item {display: flex;flex-direction: column;z-index: 1;position: relative;background-color: white;}#sk-container-id-5 div.sk-parallel-item:first-child::after {align-self: flex-end;width: 50%;}#sk-container-id-5 div.sk-parallel-item:last-child::after {align-self: flex-start;width: 50%;}#sk-container-id-5 div.sk-parallel-item:only-child::after {width: 0;}#sk-container-id-5 div.sk-dashed-wrapped {border: 1px dashed gray;margin: 0 0.4em 0.5em 0.4em;box-sizing: border-box;padding-bottom: 0.4em;background-color: white;}#sk-container-id-5 div.sk-label label {font-family: monospace;font-weight: bold;display: inline-block;line-height: 1.2em;}#sk-container-id-5 div.sk-label-container {text-align: center;}#sk-container-id-5 div.sk-container {/* jupyter's `normalize.less` sets `[hidden] { display: none; }` but bootstrap.min.css set `[hidden] { display: none !important; }` so we also need the `!important` here to be able to override the default hidden behavior on the sphinx rendered scikit-learn.org. See: https://github.com/scikit-learn/scikit-learn/issues/21755 */display: inline-block !important;position: relative;}#sk-container-id-5 div.sk-text-repr-fallback {display: none;}</style><div id=\"sk-container-id-5\" class=\"sk-top-container\"><div class=\"sk-text-repr-fallback\"><pre>LinearRegression()</pre><b>In a Jupyter environment, please rerun this cell to show the HTML representation or trust the notebook. <br />On GitHub, the HTML representation is unable to render, please try loading this page with nbviewer.org.</b></div><div class=\"sk-container\" hidden><div class=\"sk-item\"><div class=\"sk-estimator sk-toggleable\"><input class=\"sk-toggleable__control sk-hidden--visually\" id=\"sk-estimator-id-5\" type=\"checkbox\" checked><label for=\"sk-estimator-id-5\" class=\"sk-toggleable__label sk-toggleable__label-arrow\">LinearRegression</label><div class=\"sk-toggleable__content\"><pre>LinearRegression()</pre></div></div></div></div></div>"
      ],
      "text/plain": [
       "LinearRegression()"
      ]
     },
     "execution_count": 126,
     "metadata": {},
     "output_type": "execute_result"
    }
   ],
   "source": [
    "# Prediction using Linear Regression \n",
    "\n",
    "from sklearn.linear_model import LinearRegression\n",
    "from sklearn import metrics\n",
    "\n",
    "lr = LinearRegression()\n",
    "lr.fit(X_train, Y_train)"
   ]
  },
  {
   "cell_type": "code",
   "execution_count": 127,
   "id": "3e5a9465",
   "metadata": {},
   "outputs": [
    {
     "name": "stdout",
     "output_type": "stream",
     "text": [
      "Performance (R^2):  0.8184985522934707\n"
     ]
    }
   ],
   "source": [
    "# Evaluation\n",
    "\n",
    "print(\"Performance (R^2): \", lr.score(X_train, Y_train))"
   ]
  },
  {
   "cell_type": "code",
   "execution_count": 128,
   "id": "f380cd34",
   "metadata": {},
   "outputs": [],
   "source": [
    "#Predict for the test dataset\n",
    "\n",
    "Y_train_pred = lr.predict(X_train)\n",
    "Y_test_pred = lr.predict(X_test)"
   ]
  },
  {
   "cell_type": "code",
   "execution_count": 129,
   "id": "f4dd4942",
   "metadata": {},
   "outputs": [
    {
     "name": "stdout",
     "output_type": "stream",
     "text": [
      "Training R-squared:  0.82\n",
      "Training Mean Squared Error: 0.01\n",
      "Training Root Mean Squared Error:  0.1\n",
      "Training Mean Absolute Error:  0.07\n",
      " \n",
      "Test R-squared:  0.82\n",
      "Test Mean Squared Error: 0.01\n",
      "Test Root Mean Squared Error:  0.1\n",
      "Test Mean Absolute Error:  0.07\n"
     ]
    }
   ],
   "source": [
    "# Calculating 'R-squared', 'Mean Squared Error', 'Root Mean Squared Error' and 'Mean Absolute Error' for Train and Test Dataset\n",
    "\n",
    "print(\"Training R-squared: \",round(metrics.r2_score(Y_train,Y_train_pred),2))\n",
    "print('Training Mean Squared Error:', round(metrics.mean_squared_error(Y_train,Y_train_pred), 2)) \n",
    "print(\"Training Root Mean Squared Error: \",round(np.sqrt(metrics.mean_squared_error(Y_train,Y_train_pred)),2))\n",
    "print(\"Training Mean Absolute Error: \",round(metrics.mean_absolute_error(Y_train,Y_train_pred),2))\n",
    "\n",
    "print(' ')\n",
    "\n",
    "print(\"Test R-squared: \",round(metrics.r2_score(Y_test,Y_test_pred),2))\n",
    "print('Test Mean Squared Error:', round(metrics.mean_squared_error(Y_test,Y_test_pred), 2)) \n",
    "print(\"Test Root Mean Squared Error: \",round(np.sqrt(metrics.mean_squared_error(Y_test,Y_test_pred)),2))\n",
    "print(\"Test Mean Absolute Error: \",round(metrics.mean_absolute_error(Y_test,Y_test_pred),2))"
   ]
  },
  {
   "cell_type": "code",
   "execution_count": 130,
   "id": "88951168",
   "metadata": {},
   "outputs": [
    {
     "data": {
      "text/html": [
       "<div>\n",
       "<style scoped>\n",
       "    .dataframe tbody tr th:only-of-type {\n",
       "        vertical-align: middle;\n",
       "    }\n",
       "\n",
       "    .dataframe tbody tr th {\n",
       "        vertical-align: top;\n",
       "    }\n",
       "\n",
       "    .dataframe thead th {\n",
       "        text-align: right;\n",
       "    }\n",
       "</style>\n",
       "<table border=\"1\" class=\"dataframe\">\n",
       "  <thead>\n",
       "    <tr style=\"text-align: right;\">\n",
       "      <th></th>\n",
       "      <th>0</th>\n",
       "    </tr>\n",
       "  </thead>\n",
       "  <tbody>\n",
       "    <tr>\n",
       "      <th>5</th>\n",
       "      <td>0.207727</td>\n",
       "    </tr>\n",
       "    <tr>\n",
       "      <th>14</th>\n",
       "      <td>0.228106</td>\n",
       "    </tr>\n",
       "    <tr>\n",
       "      <th>20</th>\n",
       "      <td>0.213747</td>\n",
       "    </tr>\n",
       "    <tr>\n",
       "      <th>30</th>\n",
       "      <td>0.161469</td>\n",
       "    </tr>\n",
       "    <tr>\n",
       "      <th>32</th>\n",
       "      <td>0.185735</td>\n",
       "    </tr>\n",
       "    <tr>\n",
       "      <th>...</th>\n",
       "      <td>...</td>\n",
       "    </tr>\n",
       "    <tr>\n",
       "      <th>5508</th>\n",
       "      <td>0.844263</td>\n",
       "    </tr>\n",
       "    <tr>\n",
       "      <th>5519</th>\n",
       "      <td>0.883239</td>\n",
       "    </tr>\n",
       "    <tr>\n",
       "      <th>5520</th>\n",
       "      <td>0.885277</td>\n",
       "    </tr>\n",
       "    <tr>\n",
       "      <th>5521</th>\n",
       "      <td>0.879357</td>\n",
       "    </tr>\n",
       "    <tr>\n",
       "      <th>5522</th>\n",
       "      <td>0.881457</td>\n",
       "    </tr>\n",
       "  </tbody>\n",
       "</table>\n",
       "<p>1376 rows × 1 columns</p>\n",
       "</div>"
      ],
      "text/plain": [
       "             0\n",
       "5     0.207727\n",
       "14    0.228106\n",
       "20    0.213747\n",
       "30    0.161469\n",
       "32    0.185735\n",
       "...        ...\n",
       "5508  0.844263\n",
       "5519  0.883239\n",
       "5520  0.885277\n",
       "5521  0.879357\n",
       "5522  0.881457\n",
       "\n",
       "[1376 rows x 1 columns]"
      ]
     },
     "execution_count": 130,
     "metadata": {},
     "output_type": "execute_result"
    }
   ],
   "source": [
    "# Predicted Test S&P 500 Dataset \n",
    "\n",
    "Y_test_pred=pd.DataFrame(Y_test_pred,index=Y_test.index)\n",
    "Y_test_pred.sort_index(inplace=True)\n",
    "Y_test_pred"
   ]
  },
  {
   "cell_type": "code",
   "execution_count": 131,
   "id": "9a218e7d",
   "metadata": {},
   "outputs": [
    {
     "data": {
      "text/html": [
       "<div>\n",
       "<style scoped>\n",
       "    .dataframe tbody tr th:only-of-type {\n",
       "        vertical-align: middle;\n",
       "    }\n",
       "\n",
       "    .dataframe tbody tr th {\n",
       "        vertical-align: top;\n",
       "    }\n",
       "\n",
       "    .dataframe thead th {\n",
       "        text-align: right;\n",
       "    }\n",
       "</style>\n",
       "<table border=\"1\" class=\"dataframe\">\n",
       "  <thead>\n",
       "    <tr style=\"text-align: right;\">\n",
       "      <th></th>\n",
       "      <th>S&amp;P 500</th>\n",
       "    </tr>\n",
       "  </thead>\n",
       "  <tbody>\n",
       "    <tr>\n",
       "      <th>5</th>\n",
       "      <td>0.200479</td>\n",
       "    </tr>\n",
       "    <tr>\n",
       "      <th>14</th>\n",
       "      <td>0.188059</td>\n",
       "    </tr>\n",
       "    <tr>\n",
       "      <th>20</th>\n",
       "      <td>0.189746</td>\n",
       "    </tr>\n",
       "    <tr>\n",
       "      <th>30</th>\n",
       "      <td>0.158555</td>\n",
       "    </tr>\n",
       "    <tr>\n",
       "      <th>32</th>\n",
       "      <td>0.169438</td>\n",
       "    </tr>\n",
       "    <tr>\n",
       "      <th>...</th>\n",
       "      <td>...</td>\n",
       "    </tr>\n",
       "    <tr>\n",
       "      <th>5508</th>\n",
       "      <td>0.812392</td>\n",
       "    </tr>\n",
       "    <tr>\n",
       "      <th>5519</th>\n",
       "      <td>0.856969</td>\n",
       "    </tr>\n",
       "    <tr>\n",
       "      <th>5520</th>\n",
       "      <td>0.874659</td>\n",
       "    </tr>\n",
       "    <tr>\n",
       "      <th>5521</th>\n",
       "      <td>0.878782</td>\n",
       "    </tr>\n",
       "    <tr>\n",
       "      <th>5522</th>\n",
       "      <td>0.880739</td>\n",
       "    </tr>\n",
       "  </tbody>\n",
       "</table>\n",
       "<p>1376 rows × 1 columns</p>\n",
       "</div>"
      ],
      "text/plain": [
       "       S&P 500\n",
       "5     0.200479\n",
       "14    0.188059\n",
       "20    0.189746\n",
       "30    0.158555\n",
       "32    0.169438\n",
       "...        ...\n",
       "5508  0.812392\n",
       "5519  0.856969\n",
       "5520  0.874659\n",
       "5521  0.878782\n",
       "5522  0.880739\n",
       "\n",
       "[1376 rows x 1 columns]"
      ]
     },
     "execution_count": 131,
     "metadata": {},
     "output_type": "execute_result"
    }
   ],
   "source": [
    "# Original Test S&P 500 Dataset\n",
    "\n",
    "Y_test.sort_index(inplace=True)\n",
    "Y_test"
   ]
  },
  {
   "cell_type": "code",
   "execution_count": 132,
   "id": "b376546b",
   "metadata": {},
   "outputs": [],
   "source": [
    "import matplotlib.pyplot as plt"
   ]
  },
  {
   "cell_type": "code",
   "execution_count": 133,
   "id": "e83e14d2",
   "metadata": {},
   "outputs": [
    {
     "data": {
      "text/plain": [
       "Text(0.5, 1.0, 'Original S&P 500 vs Predicted S&P 500')"
      ]
     },
     "execution_count": 133,
     "metadata": {},
     "output_type": "execute_result"
    },
    {
     "data": {
      "image/png": "[encoded data removed]",
      "text/plain": [
       "<Figure size 432x288 with 1 Axes>"
      ]
     },
     "metadata": {
      "needs_background": "light"
     },
     "output_type": "display_data"
    }
   ],
   "source": [
    "# Plotting Predicted vs Actual Prices\n",
    "\n",
    "plt.plot(target_scaler.inverse_transform(Y_test))\n",
    "plt.plot(target_scaler.inverse_transform(Y_test_pred))\n",
    "plt.legend(['Original S&P 500','Predicted S&P 500'])\n",
    "plt.title('Original S&P 500 vs Predicted S&P 500')"
   ]
  }
 ],
 "metadata": {
  "kernelspec": {
   "display_name": "Python 3 (ipykernel)",
   "language": "python",
   "name": "python3"
  },
  "language_info": {
   "codemirror_mode": {
    "name": "ipython",
    "version": 3
   },
   "file_extension": ".py",
   "mimetype": "text/x-python",
   "name": "python",
   "nbconvert_exporter": "python",
   "pygments_lexer": "ipython3",
   "version": "3.10.4"
  }
 },
 "nbformat": 4,
 "nbformat_minor": 5
}
